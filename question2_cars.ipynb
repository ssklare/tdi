{
 "cells": [
  {
   "cell_type": "code",
   "execution_count": 2,
   "metadata": {
    "collapsed": true
   },
   "outputs": [],
   "source": [
    "import numpy as np"
   ]
  },
  {
   "cell_type": "code",
   "execution_count": 255,
   "metadata": {
    "collapsed": true
   },
   "outputs": [],
   "source": [
    "N = 25\n",
    "M = 10\n",
    "T = 50\n",
    "R = 100000"
   ]
  },
  {
   "cell_type": "code",
   "execution_count": 256,
   "metadata": {},
   "outputs": [
    {
     "data": {
      "text/plain": [
       "array([ 1.,  1.,  1.,  1.,  1.,  1.,  1.,  1.,  1.,  1.,  0.,  0.,  0.,\n",
       "        0.,  0.,  0.,  0.,  0.,  0.,  0.,  0.,  0.,  0.,  0.,  0.])"
      ]
     },
     "execution_count": 256,
     "metadata": {},
     "output_type": "execute_result"
    }
   ],
   "source": [
    "initial_pos = np.concatenate([np.ones(M), np.zeros(N-M)])\n",
    "initial_pos"
   ]
  },
  {
   "cell_type": "code",
   "execution_count": 257,
   "metadata": {
    "collapsed": true
   },
   "outputs": [],
   "source": [
    "pos = initial_pos\n",
    "# pos = np.array([ 0.,  1.,  1.,  0.,  1.,  0.,  0.,  0.,  0.,  1.])"
   ]
  },
  {
   "cell_type": "code",
   "execution_count": 258,
   "metadata": {},
   "outputs": [],
   "source": [
    "def adv_pos(move_location, positions):\n",
    "    if move_location == 0.0:\n",
    "        positions[-1] = 0.0\n",
    "        positions[0] = 1.0\n",
    "    else:\n",
    "        positions[move_location] = 1.0\n",
    "        positions[move_location - 1] = 0.0\n",
    "    return positions"
   ]
  },
  {
   "cell_type": "code",
   "execution_count": 259,
   "metadata": {
    "scrolled": false
   },
   "outputs": [],
   "source": [
    "ave = np.zeros(R) \n",
    "std = np.zeros(R) \n",
    "\n",
    "for r in np.arange(R):\n",
    "    for t in np.arange(T):\n",
    "        move_list = np.zeros(len(pos))\n",
    "        for i in np.arange(len(pos)-1):\n",
    "            if pos[i]==1.0 and pos[i+1]==0.0:\n",
    "                move_list[i+1] = 1.0\n",
    "        if pos[-1] == 1.0 and pos[0] == 0.0:\n",
    "            move_list[0] = 1.0\n",
    "        move_list.nonzero()[0]\n",
    "        temp_index = np.random.randint(len(move_list.nonzero()[0]))\n",
    "#         print(temp_index)\n",
    "#         print(move_list.nonzero()[0])\n",
    "        move_index = move_list.nonzero()[0][temp_index]\n",
    "#         print(move_index)\n",
    "        new_pos = adv_pos(move_index, pos)\n",
    "#         print(new_pos)\n",
    "    # COMPUTE AVERAGE\n",
    "    ave[r] = np.mean(pos.nonzero()[0])\n",
    "#     print(ave[r])        \n",
    "    # COMPUTE STD DEV\n",
    "    std[r] = np.std(pos.nonzero()[0])\n",
    "#     print(std[r])"
   ]
  },
  {
   "cell_type": "code",
   "execution_count": 260,
   "metadata": {},
   "outputs": [
    {
     "data": {
      "text/plain": [
       "11.9994125"
      ]
     },
     "execution_count": 260,
     "metadata": {},
     "output_type": "execute_result"
    }
   ],
   "source": [
    "np.mean(ave)"
   ]
  },
  {
   "cell_type": "code",
   "execution_count": 261,
   "metadata": {},
   "outputs": [
    {
     "data": {
      "text/plain": [
       "1.7447330468709963"
      ]
     },
     "execution_count": 261,
     "metadata": {},
     "output_type": "execute_result"
    }
   ],
   "source": [
    "np.std(ave)"
   ]
  },
  {
   "cell_type": "code",
   "execution_count": 262,
   "metadata": {},
   "outputs": [
    {
     "data": {
      "text/plain": [
       "6.9480691808221922"
      ]
     },
     "execution_count": 262,
     "metadata": {},
     "output_type": "execute_result"
    }
   ],
   "source": [
    "np.mean(std)"
   ]
  },
  {
   "cell_type": "code",
   "execution_count": 263,
   "metadata": {},
   "outputs": [
    {
     "data": {
      "text/plain": [
       "0.8516580349582159"
      ]
     },
     "execution_count": 263,
     "metadata": {},
     "output_type": "execute_result"
    }
   ],
   "source": [
    "np.std(std)"
   ]
  },
  {
   "cell_type": "code",
   "execution_count": null,
   "metadata": {
    "collapsed": true
   },
   "outputs": [],
   "source": []
  },
  {
   "cell_type": "code",
   "execution_count": null,
   "metadata": {
    "collapsed": true
   },
   "outputs": [],
   "source": []
  },
  {
   "cell_type": "code",
   "execution_count": null,
   "metadata": {
    "collapsed": true
   },
   "outputs": [],
   "source": []
  },
  {
   "cell_type": "code",
   "execution_count": null,
   "metadata": {
    "collapsed": true
   },
   "outputs": [],
   "source": []
  },
  {
   "cell_type": "code",
   "execution_count": null,
   "metadata": {
    "collapsed": true
   },
   "outputs": [],
   "source": []
  },
  {
   "cell_type": "code",
   "execution_count": null,
   "metadata": {
    "collapsed": true
   },
   "outputs": [],
   "source": []
  },
  {
   "cell_type": "code",
   "execution_count": null,
   "metadata": {
    "collapsed": true
   },
   "outputs": [],
   "source": []
  }
 ],
 "metadata": {
  "kernelspec": {
   "display_name": "Python 3",
   "language": "python",
   "name": "python3"
  },
  "language_info": {
   "codemirror_mode": {
    "name": "ipython",
    "version": 3
   },
   "file_extension": ".py",
   "mimetype": "text/x-python",
   "name": "python",
   "nbconvert_exporter": "python",
   "pygments_lexer": "ipython3",
   "version": "3.6.3"
  }
 },
 "nbformat": 4,
 "nbformat_minor": 2
}
